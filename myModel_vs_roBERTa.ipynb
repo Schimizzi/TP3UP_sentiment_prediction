{
 "cells": [
  {
   "cell_type": "markdown",
   "id": "b0c8c5a6",
   "metadata": {},
   "source": [
    "# Comparación de Modelos de Sentimiento\n",
    "\n",
    "Este notebook compara el rendimiento de un modelo de **Regresión Logística con TF-IDF** (entrenado localmente) contra un modelo de **Transformers pre-entrenado (RoBERTa)** de la librería Hugging Face, especializado en análisis de sentimiento en tweets."
   ]
  },
  {
   "cell_type": "code",
   "execution_count": 1,
   "id": "dc0f70ee",
   "metadata": {},
   "outputs": [],
   "source": [
    "import pandas as pd\n",
    "import joblib\n",
    "import re\n",
    "from transformers import pipeline\n",
    "\n",
    "pd.set_option('display.max_colwidth', 120)\n",
    "pd.set_option('display.width', 200)"
   ]
  },
  {
   "cell_type": "markdown",
   "id": "f79e8f5e",
   "metadata": {},
   "source": [
    "### Se define la función de limpieza de texto y una nueva función para encapsular la predicción con el modelo local."
   ]
  },
  {
   "cell_type": "code",
   "execution_count": 2,
   "id": "52697a65",
   "metadata": {},
   "outputs": [],
   "source": [
    "import spacy\n",
    "import os\n",
    "\n",
    "# Cargar el modelo de spaCy\n",
    "try:\n",
    "    nlp = spacy.load('en_core_web_sm')\n",
    "except OSError:\n",
    "    print(\"Descargando modelo de spaCy...\")\n",
    "    os.system('python -m spacy download en_core_web_sm')\n",
    "    nlp = spacy.load('en_core_web_sm')\n",
    "\n",
    "\n",
    "def limpieza(texto):\n",
    "    \"\"\"Realiza una limpieza completa del texto para el modelo local.\"\"\"\n",
    "    if not isinstance(texto, str):\n",
    "        return \"\"\n",
    "    texto = texto.lower()\n",
    "    texto = re.sub(r'[^a-záéíóúüñ\\s]', '', texto)\n",
    "    texto = re.sub(r'\\s+', ' ', texto).strip()\n",
    "    if not texto:\n",
    "        return \"\"\n",
    "    doc = nlp(texto)\n",
    "    return ' '.join([token.lemma_ for token in doc if not token.is_stop])\n",
    "\n",
    "def predecir_con_modelo_local(textos, vectorizer, modelo):\n",
    "    \"\"\"Encapsula todo el proceso de predicción del modelo local.\"\"\"\n",
    "    textos_limpios = [limpieza(t) for t in textos]\n",
    "    textos_transformados = vectorizer.transform(textos_limpios)\n",
    "    predicciones = modelo.predict(textos_transformados)\n",
    "    \n",
    "    mapa_local = {-1: \"Negativo\", 1: \"Positivo\"}\n",
    "    return [mapa_local.get(p, \"Desconocido\") for p in predicciones]"
   ]
  },
  {
   "cell_type": "markdown",
   "id": "7c83d06d",
   "metadata": {},
   "source": [
    "### Carga, Predicción y Comparación"
   ]
  },
  {
   "cell_type": "code",
   "execution_count": 3,
   "id": "2c278560",
   "metadata": {},
   "outputs": [
    {
     "name": "stdout",
     "output_type": "stream",
     "text": [
      "Cargando el modelo local y el vectorizer...\n",
      "Modelo local cargado!\n",
      "\n",
      "Cargando el modelo pre-entrenado de Hugging Face...\n"
     ]
    },
    {
     "name": "stderr",
     "output_type": "stream",
     "text": [
      "Device set to use cpu\n"
     ]
    },
    {
     "name": "stdout",
     "output_type": "stream",
     "text": [
      "¡Modelo de Hugging Face cargado!\n",
      "\n",
      "Realizando predicciones con ambos modelos...\n",
      "\n",
      "--- TABLA COMPARATIVA DE PREDICCIONES ---\n",
      "                                                                                                                                  Texto Original Tu Modelo Hugging Face  Confianza HF\n",
      "0                                          Now I can see why Dave Winer screams about lack of Twitter API, its limitations and access throttles!  Negativo     Negativo      0.767917\n",
      "1                                                                                Oooooooh... North Korea is in troubleeeee! http://bit.ly/19epAH  Positivo     Negativo      0.921869\n",
      "2                                                                         @YarnThing you will not regret going to see Star Trek. It was AWESOME!  Positivo     Positivo      0.988630\n",
      "3                                                                                      @XPhile1908 I have three words for you: \"Safeway dot com\"  Positivo      Neutral      0.783836\n",
      "4                                                         glad i didnt do Bay to Breakers today, it's 1000 freaking degrees in San Francisco wtf  Negativo     Negativo      0.638598\n",
      "5                                                                                                    The safeway bathroom still smells like ass!  Negativo     Negativo      0.943101\n",
      "6                                                                                     obviously not siding with Cheney here: http://bit.ly/19j2d  Positivo     Negativo      0.693885\n",
      "7                                                                             Fuzzball is more fun than AT&amp;T ;P http://fuzz-ball.com/twitter  Positivo     Positivo      0.948013\n",
      "8                                                                  is Twitter's connections API broken? Some tweets didn't make it to Twitter...  Negativo     Negativo      0.777073\n",
      "9                                             downloading apps for my iphone! So much fun :-) There literally is an app for just about anything.  Negativo     Positivo      0.989503\n",
      "10                                                                                        About to watch Night at the Museum with Ryan and Stacy  Positivo      Neutral      0.829265\n",
      "11                                                                Just got barraged by a horde of insects hungry for my kitchen light. So scary.  Negativo     Negativo      0.942592\n",
      "12                                     RT @designplay Goodby, Silverstein's new site: http://www.goodbysilverstein.com/ I enjoy it. *nice find!*  Positivo     Positivo      0.989301\n",
      "13                                                                    @ludajuice Lebron is a Beast, but I'm still cheering 4 the A..til the end.  Positivo     Positivo      0.855265\n",
      "14  @Karoli I firmly believe that Obama/Pelosi have ZERO desire to be civil.  It's a charade and a slogan, but they want to destroy conservatism  Negativo     Negativo      0.875118\n",
      "15                                                                                           @ Safeway. Place is a nightmare right now. Bumming.  Negativo     Negativo      0.963488\n",
      "16                                    Although today's keynote rocked, for every great announcement, AT&amp;T shit on us just a little bit more.  Positivo     Positivo      0.443381\n",
      "17                           Back from seeing 'Star Trek' and 'Night at the Museum.' 'Star Trek' was amazing, but 'Night at the Museum' was; eh.  Positivo     Positivo      0.719143\n",
      "18                                                                                                Could go for a lot of McDonalds. i mean A LOT.  Positivo     Positivo      0.799258\n",
      "19                                                                                                       could time-warner cable suck more?  NO.  Negativo     Negativo      0.928222\n",
      "20                                                            Your Normal Weight (and How to Get There) ? Normal Eating Blog http://bit.ly/ZeT8O  Positivo      Neutral      0.911370\n",
      "21                                                       By the way, I'm totally inspired by this freaky Nike commercial: http://snurl.com/icgj9  Positivo     Positivo      0.951788\n",
      "22                                                                         New blog post: Nike SB Dunk Low Premium 'White Gum' http://tr.im/lOtT  Positivo      Neutral      0.524042\n",
      "23                                                                      Cardinals baseball advance to Super Regionals. Face CS-Fullerton Friday.  Positivo      Neutral      0.917381\n",
      "24                                                                                   Why the hell is Pelosi in freakin China? and on whose dime?  Negativo     Negativo      0.944185\n",
      "25                 On that note, I hate Word. I hate Pages. I hate LaTeX. There, I said it. I hate LaTeX. All you TEXN3RDS can come kill me now.  Negativo     Negativo      0.970364\n",
      "26                    I would rather pay reasonable yearly taxes for \"free\" fast internet, than get gouged by Time Warner for a slow connection.  Negativo     Negativo      0.553372\n",
      "27    Son has me looking at cars online.  I hate car shopping.  Would rather go to the dentist!  Anyone with a good car at a good price to sell?  Negativo     Negativo      0.846317\n",
      "28                                                                                Higher physics exam tommorow, not lookin forward to it much :(  Negativo     Negativo      0.937065\n",
      "29                                                                             Google Wave Developer Sandbox Account Request http://bit.ly/2NYlc  Positivo      Neutral      0.877886\n"
     ]
    }
   ],
   "source": [
    "try:\n",
    "    # --- Cargar Modelos ---\n",
    "    print(\"Cargando el modelo local y el vectorizer...\")\n",
    "    vectorizer_cargado = joblib.load('model_robust/schimizzi_vectorizer_1.6kk.joblib')\n",
    "    modelo_cargado = joblib.load('model_robust/schimizzi_modelo_1.6kk.joblib')\n",
    "    print(\"Modelo local cargado!\")\n",
    "\n",
    "    print(\"\\nCargando el modelo pre-entrenado de Hugging Face...\")\n",
    "    sentiment_pipeline_hf = pipeline(\"sentiment-analysis\", model=\"cardiffnlp/twitter-roberta-base-sentiment\")\n",
    "    print(\"¡Modelo de Hugging Face cargado!\")\n",
    "\n",
    "    # --- Cargar Datos para Comparación ---\n",
    "    ruta_archivo_nuevo = 'data/testdata.manual.2009.06.14.csv'\n",
    "    df_comparacion = pd.read_csv(ruta_archivo_nuevo, header=None, encoding='latin-1')\n",
    "    df_comparacion.columns = ['Sentiment_Real', 'id', 'date', 'query', 'user', 'Text']\n",
    "    \n",
    "    # Tomamos una muestra para no tardar demasiado\n",
    "    textos_a_comparar = df_comparacion['Text'].sample(30).tolist()\n",
    "    \n",
    "    # --- Realizar Predicciones ---\n",
    "    print(\"\\nRealizando predicciones con ambos modelos...\")\n",
    "    \n",
    "    predicciones_local = predecir_con_modelo_local(textos_a_comparar, vectorizer_cargado, modelo_cargado)\n",
    "    resultados_hf = sentiment_pipeline_hf(textos_a_comparar)\n",
    "    \n",
    "    # --- Formatear Resultados y Mostrar Tabla ---\n",
    "    mapa_hf = {'LABEL_0': 'Negativo', 'LABEL_1': 'Neutral', 'LABEL_2': 'Positivo'}\n",
    "    predicciones_hf_texto = [mapa_hf.get(r['label'], \"Desconocido\") for r in resultados_hf]\n",
    "    confianza_hf = [r['score'] for r in resultados_hf]\n",
    "\n",
    "    df_resultados = pd.DataFrame({\n",
    "        'Texto Original': textos_a_comparar,\n",
    "        'Tu Modelo': predicciones_local,\n",
    "        'Hugging Face': predicciones_hf_texto,\n",
    "        'Confianza HF': confianza_hf\n",
    "    })\n",
    "\n",
    "    print(\"\\n--- TABLA COMPARATIVA DE PREDICCIONES ---\")\n",
    "    print(df_resultados.to_string())\n",
    "\n",
    "except FileNotFoundError:\n",
    "    print(\"\\nError: No se encontraron los archivos del modelo o el archivo de datos.\")\n",
    "except Exception as e:\n",
    "    print(f\"\\nOcurrió un error inesperado: {e}\")"
   ]
  },
  {
   "cell_type": "markdown",
   "id": "6f6e0294",
   "metadata": {},
   "source": [
    "### Análisis de Resultados\n",
    "\n",
    "Al observar la tabla comparativa, se pueden extraer las siguientes conclusiones:\n",
    "\n",
    "- **Matices y Contexto:** El modelo de Hugging Face (RoBERTa) es un Transformer, por lo que es mucho mejor para entender el contexto, el sarcasmo y los matices del lenguaje que un modelo TF-IDF. \n",
    "- **Manejo de la Neutralidad:** Este modelo solo puede clasificar como \"Positivo\" o \"Negativo\". El modelo de Hugging Face tiene una clase \"Neutral\", lo que le da más flexibilidad y precisión en textos que no tienen una carga sentimental clara.\n",
    "- **Confianza del Modelo:** La columna `Confianza HF` indica qué tan seguro está el modelo de su predicción. En textos ambiguos, esta confianza suele ser más baja.\n",
    "\n",
    "**Y esto muestra que estoy muy conforme con lo conseguido con mi modelo de predicción de sentimiento.**"
   ]
  }
 ],
 "metadata": {
  "kernelspec": {
   "display_name": "Python 3",
   "language": "python",
   "name": "python3"
  },
  "language_info": {
   "codemirror_mode": {
    "name": "ipython",
    "version": 3
   },
   "file_extension": ".py",
   "mimetype": "text/x-python",
   "name": "python",
   "nbconvert_exporter": "python",
   "pygments_lexer": "ipython3",
   "version": "3.12.10"
  }
 },
 "nbformat": 4,
 "nbformat_minor": 5
}
