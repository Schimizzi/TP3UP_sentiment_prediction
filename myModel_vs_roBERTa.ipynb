{
 "cells": [
  {
   "cell_type": "markdown",
   "id": "b0c8c5a6",
   "metadata": {},
   "source": [
    "# Comparación de Modelos de Sentimiento\n",
    "\n",
    "Este notebook compara el rendimiento de un modelo de Regresión Logística con TF-IDF (entrenado localmente) contra un modelo de Transformers pre-entrenado (RoBERTa) de la librería Hugging Face, especializado en análisis de sentimiento en tweets."
   ]
  },
  {
   "cell_type": "code",
   "execution_count": 1,
   "id": "dc0f70ee",
   "metadata": {},
   "outputs": [],
   "source": [
    "import joblib\n",
    "import re\n",
    "import spacy\n",
    "import os\n",
    "import pandas as pd\n",
    "from transformers import pipeline\n",
    "\n",
    "pd.set_option('display.max_colwidth', 120)\n",
    "pd.set_option('display.width', 200)"
   ]
  },
  {
   "cell_type": "markdown",
   "id": "f79e8f5e",
   "metadata": {},
   "source": [
    "### Se define la función de limpieza de texto y una nueva función para encapsular la predicción con el modelo local."
   ]
  },
  {
   "cell_type": "code",
   "execution_count": 2,
   "id": "52697a65",
   "metadata": {},
   "outputs": [],
   "source": [
    "# Cargar el modelo de spaCy\n",
    "try:\n",
    "    nlp = spacy.load('en_core_web_sm')\n",
    "except OSError:\n",
    "    print(\"Descargando modelo de spaCy...\")\n",
    "    os.system('python -m spacy download en_core_web_sm')\n",
    "    nlp = spacy.load('en_core_web_sm')\n",
    "\n",
    "\n",
    "def limpieza(texto):\n",
    "    # Realiza una limpieza completa del texto para el modelo local\n",
    "    if not isinstance(texto, str):\n",
    "        return \"\"\n",
    "    texto = texto.lower()\n",
    "    texto = re.sub(r'[^a-záéíóúüñ\\s]', '', texto)\n",
    "    texto = re.sub(r'\\s+', ' ', texto).strip()\n",
    "    if not texto:\n",
    "        return \"\"\n",
    "    doc = nlp(texto)\n",
    "    return ' '.join([token.lemma_ for token in doc if not token.is_stop])\n",
    "\n",
    "def predecir_con_modelo_local(textos, vectorizer, modelo):\n",
    "    # Encapsula todo el proceso de predicción del modelo local.\n",
    "    textos_limpios = [limpieza(t) for t in textos]\n",
    "    textos_transformados = vectorizer.transform(textos_limpios)\n",
    "    predicciones = modelo.predict(textos_transformados)\n",
    "    \n",
    "    mapa_local = {-1: \"Negativo\", 1: \"Positivo\"}\n",
    "    return [mapa_local.get(p, \"Desconocido\") for p in predicciones]"
   ]
  },
  {
   "cell_type": "markdown",
   "id": "7c83d06d",
   "metadata": {},
   "source": [
    "### Carga, Predicción y Comparación"
   ]
  },
  {
   "cell_type": "code",
   "execution_count": 3,
   "id": "2c278560",
   "metadata": {},
   "outputs": [
    {
     "name": "stdout",
     "output_type": "stream",
     "text": [
      "Modelo local cargado!\n"
     ]
    },
    {
     "name": "stderr",
     "output_type": "stream",
     "text": [
      "Device set to use cpu\n"
     ]
    },
    {
     "name": "stdout",
     "output_type": "stream",
     "text": [
      "roBERTa de Hugging Face cargado!\n",
      "\n",
      "Realizando predicciones con ambos modelos...\n",
      "\n",
      "-------------------------------- TABLA COMPARATIVA DE PREDICCIONES -------------------------------- \n",
      "                                                                                                                                      Texto Original Modelo Local   roBERTa  Confianza HF\n",
      "0                                                                            Awesome viral marketing for \"Funny People\" http://www.nbc.com/yo-teach/     Positivo  Positivo      0.961671\n",
      "1                                                            Share: Disruption...Fred Wilson's slides for his talk at Google HQ  http://bit.ly/Bo8PG     Positivo   Neutral      0.723739\n",
      "2                                    I hate revision, it's so boring! I am totally unprepared for my exam tomorrow :( Things are not looking good...     Negativo  Negativo      0.984168\n",
      "3              My dad was in NY for a day, we ate at MESA grill last night and met Bobby Flay. So much fun, except I completely lost my voice today.     Negativo  Positivo      0.944120\n",
      "4                                       RT @PassionModel 'American Idol' fashion: Adam Lambert tones down, Danny Gokey cute ... http://cli.gs/7JWSHV     Positivo   Neutral      0.766807\n",
      "5                                                                                                                                       Lyx is cool.     Positivo  Positivo      0.920434\n",
      "6                                                                 is lovin his Nike  already and that's only from running on the spot in his bedroom     Positivo  Positivo      0.911460\n",
      "7                                                                                          how can you not love Obama? he makes jokes about himself.     Positivo  Negativo      0.481572\n",
      "8                                                                                                         Malcolm Gladwell might be my new man crush     Positivo  Positivo      0.707346\n",
      "9                                                                                                                      I'm moving to East Palo Alto!     Positivo   Neutral      0.533104\n",
      "10                                                         @erickoston That looks an awful lot like one of Nike's private jets....I'm just sayin....     Negativo   Neutral      0.501422\n",
      "11                                                          @sketchbug Lebron is a hometown hero to me, lol I love the Lakers but let's go Cavs, lol     Positivo  Positivo      0.939852\n",
      "12                                                                                                                     Fighting with LaTex. Again...     Negativo   Neutral      0.543666\n",
      "13        @surfit: I just checked my google for my business- blip shows up as the second entry! Huh. Is that a good or ba... ? http://blip.fm/~6emhv     Positivo   Neutral      0.551110\n",
      "14  RT Look, Available !Amazon Kindle2 &amp; Kindle DX, Get it Here: http://short.to/87ub The Top Electronic Book Reader Period, free 2 day ship ...     Positivo  Positivo      0.697689\n",
      "15                  Obama's got JOKES!! haha just got to watch a bit of his after dinner speech from last night... i'm in love with mr. president ;)     Positivo  Positivo      0.988605\n",
      "16                                                           Obama is quite a good comedian! check out his dinner speech on CNN :) very funny jokes.     Positivo  Positivo      0.982206\n",
      "17                                                                                                              Arg. Twitter API is making me crazy.     Negativo  Negativo      0.854804\n",
      "18                                                                                         i am furious with time warner and their phone promotions!     Positivo  Negativo      0.972843\n",
      "19                                             Check this video out -- President Obama at the White House Correspondents' Dinner http://bit.ly/IMXUM     Positivo   Neutral      0.883874\n",
      "20                                                                                  Time Warner Cable slogan: Where calling it a day at 2pm Happens.     Negativo   Neutral      0.850104\n",
      "21         RT @blknprecious1: RT GREAT @dbroos \"Someone's sitting in the shade today because someone planted a tree a long time ago.\"- Warren Buffet     Positivo   Neutral      0.654873\n",
      "22                                                 Beginning JavaScript and CSS Development with jQuery #javascript #css #jquery http://bit.ly/TO3e5     Positivo   Neutral      0.771574\n",
      "23                                                                                   Check this video out -- David After Dentist http://bit.ly/47aW2     Negativo   Neutral      0.888788\n",
      "24                                                                                                                 @Lou911 Lebron is MURDERING shit.     Negativo  Negativo      0.950860\n",
      "25                                                                                                                     still hungry after eating....     Negativo   Neutral      0.533215\n",
      "26                                                                             Lawson to head Newedge Hong Kong http://bit.ly/xLQSD #business #china     Positivo   Neutral      0.919941\n",
      "27                           Just bought my tickets for the 2010 FIFA World Cup in South Africa. Its going to be a great summer. http://bit.ly/9GEZI     Positivo  Positivo      0.986393\n",
      "28                                                                     is Twitter's connections API broken? Some tweets didn't make it to Twitter...     Negativo  Negativo      0.777073\n",
      "29                      Took the Graduate Field Exam for Computer Science today.  Nothing makes you feel like more of an idiot than lambda calculus.     Negativo  Negativo      0.866051\n"
     ]
    }
   ],
   "source": [
    "try:\n",
    "    #  Cargar Modelo Local\n",
    "    vectorizer_cargado = joblib.load('model_tf_idf/schimizzi_vectorizer_1.6kk.joblib')\n",
    "    modelo_cargado = joblib.load('model_tf_idf/schimizzi_modelo_1.6kk.joblib')\n",
    "    print(\"Modelo local cargado!\")\n",
    "\n",
    "    #  Cargar roBERTa\n",
    "    sentiment_pipeline_hf = pipeline(\"sentiment-analysis\", model=\"cardiffnlp/twitter-roberta-base-sentiment\")\n",
    "    print(\"roBERTa de Hugging Face cargado!\")\n",
    "\n",
    "    #  Cargar Datos para Comparación \n",
    "    ruta_archivo_nuevo = 'data/testdata.manual.2009.06.14.csv'\n",
    "    df_comparacion = pd.read_csv(ruta_archivo_nuevo, header=None, encoding='latin-1')\n",
    "    df_comparacion.columns = ['Sentiment_Real', 'id', 'date', 'query', 'user', 'Text']\n",
    "    \n",
    "    # Tomamos una muestra para no tardar demasiado\n",
    "    textos_a_comparar = df_comparacion['Text'].sample(30).tolist() # una muestra aleatoria de 30 tweets\n",
    "    \n",
    "    #  Realizar Predicciones \n",
    "    print(\"\\nRealizando predicciones con ambos modelos...\")\n",
    "    predicciones_local = predecir_con_modelo_local(textos_a_comparar, vectorizer_cargado, modelo_cargado)\n",
    "    resultados_hf = sentiment_pipeline_hf(textos_a_comparar)\n",
    "    \n",
    "    #  Formatear Resultados y Mostrar Tabla \n",
    "    mapa_hf = {'LABEL_0': 'Negativo', 'LABEL_1': 'Neutral', 'LABEL_2': 'Positivo'}\n",
    "    predicciones_hf_texto = [mapa_hf.get(r['label'], \"Desconocido\") for r in resultados_hf]\n",
    "    confianza_hf = [r['score'] for r in resultados_hf]\n",
    "\n",
    "    df_resultados = pd.DataFrame({\n",
    "        'Texto Original': textos_a_comparar,\n",
    "        'Modelo Local': predicciones_local,\n",
    "        'roBERTa': predicciones_hf_texto,\n",
    "        'Confianza HF': confianza_hf\n",
    "    })\n",
    "\n",
    "    print(\"\\n-------------------------------- TABLA COMPARATIVA DE PREDICCIONES -------------------------------- \")\n",
    "    print(df_resultados.to_string())\n",
    "\n",
    "except FileNotFoundError:\n",
    "    print(\"\\nError: No se encontraron los archivos del modelo o el archivo de datos.\")\n",
    "except Exception as e:\n",
    "    print(f\"\\nOcurrió un error inesperado: {e}\")"
   ]
  },
  {
   "cell_type": "markdown",
   "id": "6f6e0294",
   "metadata": {},
   "source": [
    "### Análisis de Resultados\n",
    "\n",
    "Al observar la tabla comparativa, se pueden extraer las siguientes conclusiones:\n",
    "\n",
    "- Matices y Contexto: El modelo de Hugging Face (roBERTa) es un Transformer, por lo que es mucho mejor para entender el contexto, el sarcasmo y los matices del lenguaje que un modelo TF-IDF. \n",
    "- Manejo de la Neutralidad: Este modelo solo puede clasificar como \"Positivo\" o \"Negativo\". El modelo de Hugging Face tiene una clase \"Neutral\", lo que le da más flexibilidad y precisión en textos que no tienen una carga sentimental clara.\n",
    "- Confianza del Modelo: La columna 'Confianza HF' indica qué tan seguro está el modelo de su predicción. En textos ambiguos, esta confianza suele ser más baja.\n",
    "\n",
    "#### ❤   Estoy muy conforme con lo conseguido con mi modelo de predicción de sentimiento!   ❤"
   ]
  }
 ],
 "metadata": {
  "kernelspec": {
   "display_name": "Python 3",
   "language": "python",
   "name": "python3"
  },
  "language_info": {
   "codemirror_mode": {
    "name": "ipython",
    "version": 3
   },
   "file_extension": ".py",
   "mimetype": "text/x-python",
   "name": "python",
   "nbconvert_exporter": "python",
   "pygments_lexer": "ipython3",
   "version": "3.12.10"
  }
 },
 "nbformat": 4,
 "nbformat_minor": 5
}
